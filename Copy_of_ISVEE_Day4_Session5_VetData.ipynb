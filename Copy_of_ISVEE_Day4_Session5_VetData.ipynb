{
  "nbformat": 4,
  "nbformat_minor": 0,
  "metadata": {
    "colab": {
      "provenance": [],
      "gpuType": "T4",
      "include_colab_link": true
    },
    "kernelspec": {
      "name": "python3",
      "display_name": "Python 3"
    },
    "language_info": {
      "name": "python"
    },
    "accelerator": "GPU"
  },
  "cells": [
    {
      "cell_type": "markdown",
      "metadata": {
        "id": "view-in-github",
        "colab_type": "text"
      },
      "source": [
        "<a href=\"https://colab.research.google.com/github/OonaghP/my_repo/blob/main/Copy_of_ISVEE_Day4_Session5_VetData.ipynb\" target=\"_parent\"><img src=\"https://colab.research.google.com/assets/colab-badge.svg\" alt=\"Open In Colab\"/></a>"
      ]
    },
    {
      "cell_type": "markdown",
      "source": [
        "<img src=\"https://raw.githubusercontent.com/ingenum-ai/isvee_ML_for_epidemiology_course/main/images/MarkdownContent_Header.png\" width=900 alt=\"a pytorch workflow flowchat\" width=900 alt=\"a pytorch workflow flowchat\"/>\n",
        "\n",
        "\n",
        "<br>\n",
        "<br>"
      ],
      "metadata": {
        "id": "MTu2v9iFVpV3"
      }
    },
    {
      "cell_type": "code",
      "execution_count": 1,
      "metadata": {
        "id": "HIr_3-bwP6aI",
        "outputId": "25720c81-32c9-4ab8-b72f-72bbe03d5536",
        "colab": {
          "base_uri": "https://localhost:8080/"
        }
      },
      "outputs": [
        {
          "output_type": "stream",
          "name": "stdout",
          "text": [
            "Collecting groq\n",
            "  Downloading groq-0.11.0-py3-none-any.whl.metadata (13 kB)\n",
            "Requirement already satisfied: anyio<5,>=3.5.0 in /usr/local/lib/python3.10/dist-packages (from groq) (3.7.1)\n",
            "Requirement already satisfied: distro<2,>=1.7.0 in /usr/local/lib/python3.10/dist-packages (from groq) (1.9.0)\n",
            "Requirement already satisfied: httpx<1,>=0.23.0 in /usr/local/lib/python3.10/dist-packages (from groq) (0.27.2)\n",
            "Requirement already satisfied: pydantic<3,>=1.9.0 in /usr/local/lib/python3.10/dist-packages (from groq) (2.9.2)\n",
            "Requirement already satisfied: sniffio in /usr/local/lib/python3.10/dist-packages (from groq) (1.3.1)\n",
            "Requirement already satisfied: typing-extensions<5,>=4.7 in /usr/local/lib/python3.10/dist-packages (from groq) (4.12.2)\n",
            "Requirement already satisfied: idna>=2.8 in /usr/local/lib/python3.10/dist-packages (from anyio<5,>=3.5.0->groq) (3.10)\n",
            "Requirement already satisfied: exceptiongroup in /usr/local/lib/python3.10/dist-packages (from anyio<5,>=3.5.0->groq) (1.2.2)\n",
            "Requirement already satisfied: certifi in /usr/local/lib/python3.10/dist-packages (from httpx<1,>=0.23.0->groq) (2024.8.30)\n",
            "Requirement already satisfied: httpcore==1.* in /usr/local/lib/python3.10/dist-packages (from httpx<1,>=0.23.0->groq) (1.0.6)\n",
            "Requirement already satisfied: h11<0.15,>=0.13 in /usr/local/lib/python3.10/dist-packages (from httpcore==1.*->httpx<1,>=0.23.0->groq) (0.14.0)\n",
            "Requirement already satisfied: annotated-types>=0.6.0 in /usr/local/lib/python3.10/dist-packages (from pydantic<3,>=1.9.0->groq) (0.7.0)\n",
            "Requirement already satisfied: pydantic-core==2.23.4 in /usr/local/lib/python3.10/dist-packages (from pydantic<3,>=1.9.0->groq) (2.23.4)\n",
            "Downloading groq-0.11.0-py3-none-any.whl (106 kB)\n",
            "\u001b[2K   \u001b[90m━━━━━━━━━━━━━━━━━━━━━━━━━━━━━━━━━━━━━━━━\u001b[0m \u001b[32m106.5/106.5 kB\u001b[0m \u001b[31m2.1 MB/s\u001b[0m eta \u001b[36m0:00:00\u001b[0m\n",
            "\u001b[?25hInstalling collected packages: groq\n",
            "Successfully installed groq-0.11.0\n"
          ]
        }
      ],
      "source": [
        "# import libraries and insert your own API key here below:\n",
        "\n",
        "import sys\n",
        "import pandas as pd\n",
        "import requests\n",
        "import os\n",
        "os.environ[\"GROQ_API_KEY\"] = \"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\"\n",
        "!pip install groq\n",
        "\n",
        "import groq\n",
        "from groq import Groq\n"
      ]
    },
    {
      "cell_type": "code",
      "source": [
        "# Import vet data\n",
        "\n",
        "# Define the URL of the CSV file (updated)\n",
        "url = \"https://raw.githubusercontent.com/ingenum-ai/isvee_ML_for_epidemiology_course/main/data/vet_visit_obs.csv\"\n",
        "\n",
        "# Read the CSV file into a pandas DataFrame\n",
        "df1 = pd.read_csv(url)\n",
        "\n",
        "# Display the first few rows of the DataFrame to verify\n",
        "df1.head()\n"
      ],
      "metadata": {
        "id": "5NkPHQN-boWq",
        "outputId": "dbde59a2-fc70-41eb-dbf4-57a0c918f1e2",
        "colab": {
          "base_uri": "https://localhost:8080/",
          "height": 380
        }
      },
      "execution_count": 2,
      "outputs": [
        {
          "output_type": "execute_result",
          "data": {
            "text/plain": [
              "      Animal Name   Animal Type    Hst Date           Summary Hst Fld Name  \\\n",
              "0   Argyll Cattle  Cattle Dairy  01/03/2023                ¬       HISTORY   \n",
              "1   Argyll Cattle  Cattle Dairy  01/03/2023                ¬     CLIN_EXAM   \n",
              "2   Argyll Cattle  Cattle Dairy  01/03/2023                ¬     TREATMENT   \n",
              "3   Argyll Cattle  Cattle Dairy  01/03/2023                ¬       HISTORY   \n",
              "4  Autumn Consult  Cattle Dairy  04/04/2023  Autumn Consult¬       HISTORY   \n",
              "\n",
              "                                       Hst Fld Value  \n",
              "0  Two R2 Jersey bulls; intended to go to works t...  \n",
              "1  Sedated with 5ml 10% xylazine IM (#0777 needed...  \n",
              "2  #0564; pared under run sole¬ drained abscess¬ ...  \n",
              "3                             D Cow - Recommend cull  \n",
              "4  selective dry cow interested in using some a...  "
            ],
            "text/html": [
              "\n",
              "  <div id=\"df-64b3ec28-bfec-4413-bc07-fa4937b6aded\" class=\"colab-df-container\">\n",
              "    <div>\n",
              "<style scoped>\n",
              "    .dataframe tbody tr th:only-of-type {\n",
              "        vertical-align: middle;\n",
              "    }\n",
              "\n",
              "    .dataframe tbody tr th {\n",
              "        vertical-align: top;\n",
              "    }\n",
              "\n",
              "    .dataframe thead th {\n",
              "        text-align: right;\n",
              "    }\n",
              "</style>\n",
              "<table border=\"1\" class=\"dataframe\">\n",
              "  <thead>\n",
              "    <tr style=\"text-align: right;\">\n",
              "      <th></th>\n",
              "      <th>Animal Name</th>\n",
              "      <th>Animal Type</th>\n",
              "      <th>Hst Date</th>\n",
              "      <th>Summary</th>\n",
              "      <th>Hst Fld Name</th>\n",
              "      <th>Hst Fld Value</th>\n",
              "    </tr>\n",
              "  </thead>\n",
              "  <tbody>\n",
              "    <tr>\n",
              "      <th>0</th>\n",
              "      <td>Argyll Cattle</td>\n",
              "      <td>Cattle Dairy</td>\n",
              "      <td>01/03/2023</td>\n",
              "      <td>¬</td>\n",
              "      <td>HISTORY</td>\n",
              "      <td>Two R2 Jersey bulls; intended to go to works t...</td>\n",
              "    </tr>\n",
              "    <tr>\n",
              "      <th>1</th>\n",
              "      <td>Argyll Cattle</td>\n",
              "      <td>Cattle Dairy</td>\n",
              "      <td>01/03/2023</td>\n",
              "      <td>¬</td>\n",
              "      <td>CLIN_EXAM</td>\n",
              "      <td>Sedated with 5ml 10% xylazine IM (#0777 needed...</td>\n",
              "    </tr>\n",
              "    <tr>\n",
              "      <th>2</th>\n",
              "      <td>Argyll Cattle</td>\n",
              "      <td>Cattle Dairy</td>\n",
              "      <td>01/03/2023</td>\n",
              "      <td>¬</td>\n",
              "      <td>TREATMENT</td>\n",
              "      <td>#0564; pared under run sole¬ drained abscess¬ ...</td>\n",
              "    </tr>\n",
              "    <tr>\n",
              "      <th>3</th>\n",
              "      <td>Argyll Cattle</td>\n",
              "      <td>Cattle Dairy</td>\n",
              "      <td>01/03/2023</td>\n",
              "      <td>¬</td>\n",
              "      <td>HISTORY</td>\n",
              "      <td>D Cow - Recommend cull</td>\n",
              "    </tr>\n",
              "    <tr>\n",
              "      <th>4</th>\n",
              "      <td>Autumn Consult</td>\n",
              "      <td>Cattle Dairy</td>\n",
              "      <td>04/04/2023</td>\n",
              "      <td>Autumn Consult¬</td>\n",
              "      <td>HISTORY</td>\n",
              "      <td>selective dry cow interested in using some a...</td>\n",
              "    </tr>\n",
              "  </tbody>\n",
              "</table>\n",
              "</div>\n",
              "    <div class=\"colab-df-buttons\">\n",
              "\n",
              "  <div class=\"colab-df-container\">\n",
              "    <button class=\"colab-df-convert\" onclick=\"convertToInteractive('df-64b3ec28-bfec-4413-bc07-fa4937b6aded')\"\n",
              "            title=\"Convert this dataframe to an interactive table.\"\n",
              "            style=\"display:none;\">\n",
              "\n",
              "  <svg xmlns=\"http://www.w3.org/2000/svg\" height=\"24px\" viewBox=\"0 -960 960 960\">\n",
              "    <path d=\"M120-120v-720h720v720H120Zm60-500h600v-160H180v160Zm220 220h160v-160H400v160Zm0 220h160v-160H400v160ZM180-400h160v-160H180v160Zm440 0h160v-160H620v160ZM180-180h160v-160H180v160Zm440 0h160v-160H620v160Z\"/>\n",
              "  </svg>\n",
              "    </button>\n",
              "\n",
              "  <style>\n",
              "    .colab-df-container {\n",
              "      display:flex;\n",
              "      gap: 12px;\n",
              "    }\n",
              "\n",
              "    .colab-df-convert {\n",
              "      background-color: #E8F0FE;\n",
              "      border: none;\n",
              "      border-radius: 50%;\n",
              "      cursor: pointer;\n",
              "      display: none;\n",
              "      fill: #1967D2;\n",
              "      height: 32px;\n",
              "      padding: 0 0 0 0;\n",
              "      width: 32px;\n",
              "    }\n",
              "\n",
              "    .colab-df-convert:hover {\n",
              "      background-color: #E2EBFA;\n",
              "      box-shadow: 0px 1px 2px rgba(60, 64, 67, 0.3), 0px 1px 3px 1px rgba(60, 64, 67, 0.15);\n",
              "      fill: #174EA6;\n",
              "    }\n",
              "\n",
              "    .colab-df-buttons div {\n",
              "      margin-bottom: 4px;\n",
              "    }\n",
              "\n",
              "    [theme=dark] .colab-df-convert {\n",
              "      background-color: #3B4455;\n",
              "      fill: #D2E3FC;\n",
              "    }\n",
              "\n",
              "    [theme=dark] .colab-df-convert:hover {\n",
              "      background-color: #434B5C;\n",
              "      box-shadow: 0px 1px 3px 1px rgba(0, 0, 0, 0.15);\n",
              "      filter: drop-shadow(0px 1px 2px rgba(0, 0, 0, 0.3));\n",
              "      fill: #FFFFFF;\n",
              "    }\n",
              "  </style>\n",
              "\n",
              "    <script>\n",
              "      const buttonEl =\n",
              "        document.querySelector('#df-64b3ec28-bfec-4413-bc07-fa4937b6aded button.colab-df-convert');\n",
              "      buttonEl.style.display =\n",
              "        google.colab.kernel.accessAllowed ? 'block' : 'none';\n",
              "\n",
              "      async function convertToInteractive(key) {\n",
              "        const element = document.querySelector('#df-64b3ec28-bfec-4413-bc07-fa4937b6aded');\n",
              "        const dataTable =\n",
              "          await google.colab.kernel.invokeFunction('convertToInteractive',\n",
              "                                                    [key], {});\n",
              "        if (!dataTable) return;\n",
              "\n",
              "        const docLinkHtml = 'Like what you see? Visit the ' +\n",
              "          '<a target=\"_blank\" href=https://colab.research.google.com/notebooks/data_table.ipynb>data table notebook</a>'\n",
              "          + ' to learn more about interactive tables.';\n",
              "        element.innerHTML = '';\n",
              "        dataTable['output_type'] = 'display_data';\n",
              "        await google.colab.output.renderOutput(dataTable, element);\n",
              "        const docLink = document.createElement('div');\n",
              "        docLink.innerHTML = docLinkHtml;\n",
              "        element.appendChild(docLink);\n",
              "      }\n",
              "    </script>\n",
              "  </div>\n",
              "\n",
              "\n",
              "<div id=\"df-3f5f8adc-9166-4b40-8be1-ea8959e1b418\">\n",
              "  <button class=\"colab-df-quickchart\" onclick=\"quickchart('df-3f5f8adc-9166-4b40-8be1-ea8959e1b418')\"\n",
              "            title=\"Suggest charts\"\n",
              "            style=\"display:none;\">\n",
              "\n",
              "<svg xmlns=\"http://www.w3.org/2000/svg\" height=\"24px\"viewBox=\"0 0 24 24\"\n",
              "     width=\"24px\">\n",
              "    <g>\n",
              "        <path d=\"M19 3H5c-1.1 0-2 .9-2 2v14c0 1.1.9 2 2 2h14c1.1 0 2-.9 2-2V5c0-1.1-.9-2-2-2zM9 17H7v-7h2v7zm4 0h-2V7h2v10zm4 0h-2v-4h2v4z\"/>\n",
              "    </g>\n",
              "</svg>\n",
              "  </button>\n",
              "\n",
              "<style>\n",
              "  .colab-df-quickchart {\n",
              "      --bg-color: #E8F0FE;\n",
              "      --fill-color: #1967D2;\n",
              "      --hover-bg-color: #E2EBFA;\n",
              "      --hover-fill-color: #174EA6;\n",
              "      --disabled-fill-color: #AAA;\n",
              "      --disabled-bg-color: #DDD;\n",
              "  }\n",
              "\n",
              "  [theme=dark] .colab-df-quickchart {\n",
              "      --bg-color: #3B4455;\n",
              "      --fill-color: #D2E3FC;\n",
              "      --hover-bg-color: #434B5C;\n",
              "      --hover-fill-color: #FFFFFF;\n",
              "      --disabled-bg-color: #3B4455;\n",
              "      --disabled-fill-color: #666;\n",
              "  }\n",
              "\n",
              "  .colab-df-quickchart {\n",
              "    background-color: var(--bg-color);\n",
              "    border: none;\n",
              "    border-radius: 50%;\n",
              "    cursor: pointer;\n",
              "    display: none;\n",
              "    fill: var(--fill-color);\n",
              "    height: 32px;\n",
              "    padding: 0;\n",
              "    width: 32px;\n",
              "  }\n",
              "\n",
              "  .colab-df-quickchart:hover {\n",
              "    background-color: var(--hover-bg-color);\n",
              "    box-shadow: 0 1px 2px rgba(60, 64, 67, 0.3), 0 1px 3px 1px rgba(60, 64, 67, 0.15);\n",
              "    fill: var(--button-hover-fill-color);\n",
              "  }\n",
              "\n",
              "  .colab-df-quickchart-complete:disabled,\n",
              "  .colab-df-quickchart-complete:disabled:hover {\n",
              "    background-color: var(--disabled-bg-color);\n",
              "    fill: var(--disabled-fill-color);\n",
              "    box-shadow: none;\n",
              "  }\n",
              "\n",
              "  .colab-df-spinner {\n",
              "    border: 2px solid var(--fill-color);\n",
              "    border-color: transparent;\n",
              "    border-bottom-color: var(--fill-color);\n",
              "    animation:\n",
              "      spin 1s steps(1) infinite;\n",
              "  }\n",
              "\n",
              "  @keyframes spin {\n",
              "    0% {\n",
              "      border-color: transparent;\n",
              "      border-bottom-color: var(--fill-color);\n",
              "      border-left-color: var(--fill-color);\n",
              "    }\n",
              "    20% {\n",
              "      border-color: transparent;\n",
              "      border-left-color: var(--fill-color);\n",
              "      border-top-color: var(--fill-color);\n",
              "    }\n",
              "    30% {\n",
              "      border-color: transparent;\n",
              "      border-left-color: var(--fill-color);\n",
              "      border-top-color: var(--fill-color);\n",
              "      border-right-color: var(--fill-color);\n",
              "    }\n",
              "    40% {\n",
              "      border-color: transparent;\n",
              "      border-right-color: var(--fill-color);\n",
              "      border-top-color: var(--fill-color);\n",
              "    }\n",
              "    60% {\n",
              "      border-color: transparent;\n",
              "      border-right-color: var(--fill-color);\n",
              "    }\n",
              "    80% {\n",
              "      border-color: transparent;\n",
              "      border-right-color: var(--fill-color);\n",
              "      border-bottom-color: var(--fill-color);\n",
              "    }\n",
              "    90% {\n",
              "      border-color: transparent;\n",
              "      border-bottom-color: var(--fill-color);\n",
              "    }\n",
              "  }\n",
              "</style>\n",
              "\n",
              "  <script>\n",
              "    async function quickchart(key) {\n",
              "      const quickchartButtonEl =\n",
              "        document.querySelector('#' + key + ' button');\n",
              "      quickchartButtonEl.disabled = true;  // To prevent multiple clicks.\n",
              "      quickchartButtonEl.classList.add('colab-df-spinner');\n",
              "      try {\n",
              "        const charts = await google.colab.kernel.invokeFunction(\n",
              "            'suggestCharts', [key], {});\n",
              "      } catch (error) {\n",
              "        console.error('Error during call to suggestCharts:', error);\n",
              "      }\n",
              "      quickchartButtonEl.classList.remove('colab-df-spinner');\n",
              "      quickchartButtonEl.classList.add('colab-df-quickchart-complete');\n",
              "    }\n",
              "    (() => {\n",
              "      let quickchartButtonEl =\n",
              "        document.querySelector('#df-3f5f8adc-9166-4b40-8be1-ea8959e1b418 button');\n",
              "      quickchartButtonEl.style.display =\n",
              "        google.colab.kernel.accessAllowed ? 'block' : 'none';\n",
              "    })();\n",
              "  </script>\n",
              "</div>\n",
              "\n",
              "    </div>\n",
              "  </div>\n"
            ],
            "application/vnd.google.colaboratory.intrinsic+json": {
              "type": "dataframe",
              "variable_name": "df1",
              "summary": "{\n  \"name\": \"df1\",\n  \"rows\": 50,\n  \"fields\": [\n    {\n      \"column\": \"Animal Name\",\n      \"properties\": {\n        \"dtype\": \"category\",\n        \"num_unique_values\": 6,\n        \"samples\": [\n          \"Argyll Cattle\",\n          \"Autumn Consult\",\n          \"Calf\"\n        ],\n        \"semantic_type\": \"\",\n        \"description\": \"\"\n      }\n    },\n    {\n      \"column\": \"Animal Type\",\n      \"properties\": {\n        \"dtype\": \"category\",\n        \"num_unique_values\": 1,\n        \"samples\": [\n          \"Cattle Dairy\"\n        ],\n        \"semantic_type\": \"\",\n        \"description\": \"\"\n      }\n    },\n    {\n      \"column\": \"Hst Date\",\n      \"properties\": {\n        \"dtype\": \"category\",\n        \"num_unique_values\": 21,\n        \"samples\": [\n          \"01/03/2023\"\n        ],\n        \"semantic_type\": \"\",\n        \"description\": \"\"\n      }\n    },\n    {\n      \"column\": \"Summary\",\n      \"properties\": {\n        \"dtype\": \"category\",\n        \"num_unique_values\": 12,\n        \"samples\": [\n          \"Revisit\\u00ac \"\n        ],\n        \"semantic_type\": \"\",\n        \"description\": \"\"\n      }\n    },\n    {\n      \"column\": \"Hst Fld Name\",\n      \"properties\": {\n        \"dtype\": \"category\",\n        \"num_unique_values\": 11,\n        \"samples\": [\n          \"LAB\"\n        ],\n        \"semantic_type\": \"\",\n        \"description\": \"\"\n      }\n    },\n    {\n      \"column\": \"Hst Fld Value\",\n      \"properties\": {\n        \"dtype\": \"string\",\n        \"num_unique_values\": 40,\n        \"samples\": [\n          \"x59 2nd 7in1 done. 1 sick calf but was getting seen today but still vaccinated it (NL)\"\n        ],\n        \"semantic_type\": \"\",\n        \"description\": \"\"\n      }\n    }\n  ]\n}"
            }
          },
          "metadata": {},
          "execution_count": 2
        }
      ]
    },
    {
      "cell_type": "markdown",
      "source": [
        "##Functions and API client"
      ],
      "metadata": {
        "id": "PEusmeNMoVkx"
      }
    },
    {
      "cell_type": "code",
      "source": [
        "#Contact groc client\n",
        "\n",
        "client = Groq(\n",
        "    api_key=os.environ.get(\"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\"),\n",
        ")\n",
        "\n",
        "chat_completion = client.chat.completions.create(\n",
        "    messages=[\n",
        "        {\n",
        "            \"role\": \"user\",\n",
        "            \"content\": \"Give me brief history of the ISVEE veterinary epidemiology and economics conference\",\n",
        "        }\n",
        "    ],\n",
        "    model=\"llama3-8b-8192\",\n",
        ")\n",
        "\n",
        "print(chat_completion.choices[0].message.content)"
      ],
      "metadata": {
        "id": "XfbLBgNhma0K"
      },
      "execution_count": null,
      "outputs": []
    },
    {
      "cell_type": "code",
      "source": [
        "# Function to extract clinical signs and diseases\n",
        "def extract_clinical_info(text):\n",
        "    chat_completion = client.chat.completions.create(\n",
        "        messages=[\n",
        "            {\n",
        "                \"role\": \"user\",\n",
        "                \"content\": f\"Identify and list clinical signs and diseases in the following text, list these as comma seterated text. no commentary at all. Do not provide example data or reiterate my data. Where no clinical signs are described or no text is provided or elegible, only return NA: '{text}'\",\n",
        "            }\n",
        "        ],\n",
        "        model=\"llama3-8b-8192\",\n",
        "    )\n",
        "    return chat_completion.choices[0].message.content"
      ],
      "metadata": {
        "id": "MHqeVHoSqJoV"
      },
      "execution_count": 4,
      "outputs": []
    },
    {
      "cell_type": "code",
      "source": [
        "# Ex.1 Function to extract only diseases\n",
        "def extract_disease_info(text):\n",
        "    chat_completion = client.chat.completions.create(\n",
        "        messages=[\n",
        "            {\n",
        "                \"role\": \"user\",\n",
        "                \"content\": f\"Identify and list diseases in the following text, list these as comma separated text. no commentary at all. Do not provide example data or reiterate my data. Where no clinical signs are described or no text is provided or elegible, only return NA: '{text}'\",\n",
        "            }\n",
        "        ],\n",
        "        model=\"llama3-8b-8192\",\n",
        "    )\n",
        "    return chat_completion.choices[0].message.content"
      ],
      "metadata": {
        "id": "cBP5JMIGqls4"
      },
      "execution_count": 7,
      "outputs": []
    },
    {
      "cell_type": "code",
      "source": [
        "# Ex.2 Function to extract veterinary services\n",
        "def extract_service_info(text):\n",
        "    chat_completion = client.chat.completions.create(\n",
        "        messages=[\n",
        "            {\n",
        "                \"role\": \"user\",\n",
        "                \"content\": f\"Identify and list the category of veterinary services that were provided to the client in the following text, list these as comma separated text. no commentary at all. Do not provide example data or reiterate my data. Where no clinical signs are described or no text is provided or elegible, only return NA: '{text}'\",\n",
        "            }\n",
        "        ],\n",
        "        model=\"llama3-8b-8192\",\n",
        "    )\n",
        "    return chat_completion.choices[0].message.content"
      ],
      "metadata": {
        "id": "LJcRPJmMsdbL"
      },
      "execution_count": 27,
      "outputs": []
    },
    {
      "cell_type": "markdown",
      "source": [
        "##Analyses"
      ],
      "metadata": {
        "id": "Numejgi_oPB9"
      }
    },
    {
      "cell_type": "code",
      "source": [
        "#Create a field that identifies and lists\n",
        "\n",
        "# Apply function to each row in the 'Hst Fld Value' column of df1_subset\n",
        "df1['clinical_info'] = df1['Hst Fld Value'].apply(extract_clinical_info)\n"
      ],
      "metadata": {
        "id": "dIpNmeMSqCbw"
      },
      "execution_count": null,
      "outputs": []
    },
    {
      "cell_type": "code",
      "source": [
        "## Ex.1 Create a new column listing only diseases\n",
        "\n",
        "# Apply function to each row in the 'Hst Fld Value' column of df1_subset\n",
        "df1['disease_info'] = df1['Hst Fld Value'].apply(extract_disease_info)"
      ],
      "metadata": {
        "id": "I7wFjDoUq-vZ"
      },
      "execution_count": 11,
      "outputs": []
    },
    {
      "cell_type": "code",
      "source": [
        "## Ex.2 Create a list of veterinary services\n",
        "\n",
        "# Apply function to each row in the 'Hst Fld Value' column of df1_subset\n",
        "df1['service_info'] = df1['Hst Fld Value'].apply(extract_service_info)"
      ],
      "metadata": {
        "id": "c65rCl5Ys0ta"
      },
      "execution_count": 28,
      "outputs": []
    },
    {
      "cell_type": "code",
      "source": [
        "print(df1.clinical_info)"
      ],
      "metadata": {
        "colab": {
          "base_uri": "https://localhost:8080/"
        },
        "id": "1N3CZep8rvQB",
        "outputId": "428f7bbe-ed09-40cf-df19-8a33cf2dcf73"
      },
      "execution_count": 13,
      "outputs": [
        {
          "output_type": "stream",
          "name": "stdout",
          "text": [
            "0                                    Lame, PF, pink eye\n",
            "1             toe abscess, lameness, soft tissue injury\n",
            "2                                                    NA\n",
            "3                                                    NA\n",
            "4                                                    NA\n",
            "5                                                    NA\n",
            "6                                                    NA\n",
            "7                                                    NA\n",
            "8     Please provide the text, and I'll list the cli...\n",
            "9                                                    NA\n",
            "10                                                   NA\n",
            "11                                                   NA\n",
            "12                                   NA, Mastitis, None\n",
            "13                                                   NA\n",
            "14                                     woody tongue, NA\n",
            "15                         Clinical signs, diseases: NA\n",
            "16                                                   NA\n",
            "17                                Lame, joint infection\n",
            "18                                                   NA\n",
            "19    WOODY TONGUE, Sudden weight loss, Hairy tongue...\n",
            "20                                                   NA\n",
            "21                                                   NA\n",
            "22    Please provide the text, and I'll list the cli...\n",
            "23                                                   NA\n",
            "24    Please provide the text, and I'll list the cli...\n",
            "25                                                   NA\n",
            "26    diarrhoea, dehydration, vomiting, tenesmus, dy...\n",
            "27                                                   NA\n",
            "28    pot bellied, oedema under the jaw, slow rumen ...\n",
            "29                                                   NA\n",
            "30    Please provide the text, and I'll list the cli...\n",
            "31                                                   NA\n",
            "32    Please provide the text you'd like me to work ...\n",
            "33    I'm happy to help!\\n\\nPlease provide the text,...\n",
            "34    Here are the clinical signs and diseases liste...\n",
            "35                                                   NA\n",
            "36                               Worm burdens, coccidia\n",
            "37                                                   NA\n",
            "38    Here is the list of clinical signs and disease...\n",
            "39    poor appetite, not eating on own, behavioural ...\n",
            "40    NA, NA, peritonitis, motility issue, blockage,...\n",
            "41                                                   NA\n",
            "42                                                   NA\n",
            "43                                                   NA\n",
            "44                                                   NA\n",
            "45                                                   NA\n",
            "46    Please provide the text, and I will list the c...\n",
            "47                                                   NA\n",
            "48    Please provide the text, and I'll extract the ...\n",
            "49                                                   NA\n",
            "Name: clinical_info, dtype: object\n"
          ]
        }
      ]
    },
    {
      "cell_type": "code",
      "source": [
        "# Ex.2 Output\n",
        "print(df1.disease_info)"
      ],
      "metadata": {
        "id": "DlHg_pRi1BbN",
        "colab": {
          "base_uri": "https://localhost:8080/"
        },
        "outputId": "0d4bb105-e28a-41b7-c3d3-abd849955d07"
      },
      "execution_count": 12,
      "outputs": [
        {
          "output_type": "stream",
          "name": "stdout",
          "text": [
            "0                                        Lame, pink eye\n",
            "1                                              abscess,\n",
            "2                                                    NA\n",
            "3                                                    NA\n",
            "4                                                    NA\n",
            "5                                              Mastitis\n",
            "6                                                    NA\n",
            "7                                                    NA\n",
            "8     Please provide the text, and I'll list the dis...\n",
            "9                                                    NA\n",
            "10                                                   NA\n",
            "11                                                   NA\n",
            "12                                     Masitis, dry cow\n",
            "13                                                   NA\n",
            "14                                                   NA\n",
            "15                                          disease, NA\n",
            "16                                                   NA\n",
            "17           Arthritis, Antibiotic-resistant infection,\n",
            "18                                                   NA\n",
            "19    Vibrostrep, Sudden weight loss, Unchewed grass...\n",
            "20                                                   NA\n",
            "21    Here is the list of diseases mentioned in the ...\n",
            "22                             Please provide the text.\n",
            "23                                                   NA\n",
            "24    Please provide the text, and I'll extract the ...\n",
            "25                                                   NA\n",
            "26    Here is the list of diseases mentioned in the ...\n",
            "27                                                   NA\n",
            "28                                          Oedema, BVD\n",
            "29                                                   NA\n",
            "30    Please provide the text, and I'll extract the ...\n",
            "31    bronchitis, pneumonia, gastritis, coccidiosis,...\n",
            "32    Please provide the text, and I'll list the dis...\n",
            "33                                                   NA\n",
            "34    Arthritis, Cystitis, Dermatitis, Eosinophilic ...\n",
            "35                                     Calf, Neme, Oocy\n",
            "36    Here is the list of diseases mentioned in the ...\n",
            "37                                        Leptospirosis\n",
            "38    toxin ingestion, bloat, bloat trocar, bivatop,...\n",
            "39                           peritonitis, sepsis, bloat\n",
            "40                                  peritonitis, sepsis\n",
            "41                                                   NA\n",
            "42                                                   NA\n",
            "43                                                   NA\n",
            "44                                             Abcesses\n",
            "45                                                   NA\n",
            "46    Please provide the text, and I'll identify and...\n",
            "47                                                   NA\n",
            "48    Please provide the text you'd like me to extra...\n",
            "49                                                   NA\n",
            "Name: disease_info, dtype: object\n"
          ]
        }
      ]
    },
    {
      "cell_type": "code",
      "source": [],
      "metadata": {
        "id": "RYI3lCfZvnS2"
      },
      "execution_count": null,
      "outputs": []
    },
    {
      "cell_type": "markdown",
      "source": [
        "##Exercises"
      ],
      "metadata": {
        "id": "t0ASduJaoLGr"
      }
    },
    {
      "cell_type": "markdown",
      "source": [
        "Using a duplication of the function above, rename the function and change the prompt to create new outputs. Keep the function script in a new block beneath the first in the Functions section\n",
        "\n",
        "Try completing the following requests and then consider how else you might use this on your own data\n",
        "\n",
        "You're welcome!"
      ],
      "metadata": {
        "id": "Djcz29I_nf0x"
      }
    },
    {
      "cell_type": "code",
      "source": [
        "# 1 Create a new column listing only diseases\n"
      ],
      "metadata": {
        "id": "0kh7SJWenYaN"
      },
      "execution_count": 14,
      "outputs": []
    },
    {
      "cell_type": "code",
      "source": [
        "# 2 Create a list of veterinary services\n",
        "\n"
      ],
      "metadata": {
        "id": "dVy4qQVine7N"
      },
      "execution_count": 15,
      "outputs": []
    },
    {
      "cell_type": "code",
      "source": [
        "# 3 Find the most likely disease for the clinical signs listed\n",
        "\n"
      ],
      "metadata": {
        "id": "eOqQDOC4n13q"
      },
      "execution_count": null,
      "outputs": []
    }
  ]
}